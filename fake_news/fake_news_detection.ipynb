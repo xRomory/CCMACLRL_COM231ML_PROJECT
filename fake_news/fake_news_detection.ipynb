{
 "cells": [
  {
   "cell_type": "markdown",
   "id": "bb3715c8",
   "metadata": {},
   "source": [
    "# Fake News Detection using Naive Bayes and Logistic Regresssion"
   ]
  },
  {
   "cell_type": "markdown",
   "id": "58220ecb",
   "metadata": {},
   "source": [
    "## Datasets"
   ]
  },
  {
   "cell_type": "code",
   "execution_count": null,
   "id": "4c6c2415",
   "metadata": {
    "vscode": {
     "languageId": "plaintext"
    }
   },
   "outputs": [],
   "source": []
  }
 ],
 "metadata": {
  "language_info": {
   "name": "python"
  }
 },
 "nbformat": 4,
 "nbformat_minor": 5
}
